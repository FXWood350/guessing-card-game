{
 "cells": [
  {
   "cell_type": "markdown",
   "metadata": {},
   "source": [
    "# NEA Card Game"
   ]
  },
  {
   "cell_type": "code",
   "execution_count": 1,
   "metadata": {},
   "outputs": [],
   "source": [
    "import sys\n",
    "import random\n",
    "import pandas as pd\n"
   ]
  },
  {
   "cell_type": "code",
   "execution_count": 2,
   "metadata": {},
   "outputs": [],
   "source": [
    "user_db = pd.read_csv(r'user_list.csv')"
   ]
  },
  {
   "cell_type": "markdown",
   "metadata": {},
   "source": [
    "This code reads the data from the comma seperated value file 'user_list' which contains the usernames of the players, their passwords, and their highscores.\n",
    "This data is placed into a pandas dataframe for easy manipulation and handling."
   ]
  },
  {
   "cell_type": "code",
   "execution_count": 3,
   "metadata": {},
   "outputs": [],
   "source": [
    "class Player:\n",
    "    \n",
    "    def __init__(self, df):\n",
    "        self.Score = 999\n",
    "        self.Cards_Owned = []\n",
    "        Username = input(\"Please input your username: \")\n",
    "        Username.strip()\n",
    "        try:\n",
    "            row = df.loc[df['Username'] == Username] #creates a seperate dataframe consisting solely of the player's row in the dataframe, ensures another password is not accepted.\n",
    "        except KeyError: #Alerts the user that their username is invalid\n",
    "            print(\"Username not in database\")\n",
    "            return\n",
    "        except:\n",
    "            print(\"Critical System Error\")\n",
    "            return\n",
    "        self.index = int(row.index.values)\n",
    "        for x in range(0,3):#allows 3x attempts at login\n",
    "            pwd = input(\"Please input your password: \")\n",
    "\n",
    "            if row.at[self.index,\"Password\"] == pwd: #checking pwd against user row\n",
    "                print(\"Login Successful\")\n",
    "                self.Username = Username\n",
    "                return\n",
    "            elif row.at[self.index,\"Password\"] != pwd:\n",
    "                print(\"Incorrect Password\")\n",
    "        print(\"Password attempt limit exceeded.\")\n",
    "        sys.exit()#exits program if limit exceeded\n",
    "        \n",
    "    def add_score(self,inc):\n",
    "        self.Score = self.Score + inc\n",
    "    def init_score(self):\n",
    "        self.Score = 0"
   ]
  },
  {
   "cell_type": "markdown",
   "metadata": {},
   "source": [
    "The class Player has several attributes- Username (which corresponds to the Username in the 'user_list' file), index (which corresponds to the index of the player's row in the dataframe), Score (which stores the score for only a specific game), and Cards_Owned (which is a list of all the cards that the user accumulates in the game).\n",
    "\n",
    "The login process is handled within the init function. There are also 2 extra functions, add_score and init_score which are neccesary to eliminate the potential for python to recognise self.Score as a class variable instead of an instance variable."
   ]
  },
  {
   "cell_type": "code",
   "execution_count": 4,
   "metadata": {},
   "outputs": [
    {
     "name": "stdin",
     "output_type": "stream",
     "text": [
      "Please input your username:  FXWood350\n",
      "Please input your password:  NootNoot\n"
     ]
    },
    {
     "name": "stdout",
     "output_type": "stream",
     "text": [
      "Login Successful\n"
     ]
    },
    {
     "name": "stdin",
     "output_type": "stream",
     "text": [
      "Please input your username:  GTF1\n",
      "Please input your password:  ProGamer\n"
     ]
    },
    {
     "name": "stdout",
     "output_type": "stream",
     "text": [
      "Login Successful\n"
     ]
    }
   ],
   "source": [
    "player_1 = Player(user_db)#creates instances of player\n",
    "\n",
    "player_2 = Player(user_db)\n",
    "\n",
    "player_1.init_score()\n",
    "player_2.init_score()\n"
   ]
  },
  {
   "cell_type": "markdown",
   "metadata": {},
   "source": [
    "2 objects of the class Player are initialised."
   ]
  },
  {
   "cell_type": "code",
   "execution_count": 5,
   "metadata": {},
   "outputs": [],
   "source": [
    "deck_list = ['r1', 'r2', 'r3', 'r4', 'r5', 'r6', 'r7', 'r8', 'r9', 'r10','y1', 'y2', 'y3', 'y4', 'y5', 'y6', 'y7', 'y8', 'y9', 'y10','b1', 'b2', 'b3', 'b4', 'b5', 'b6', 'b7', 'b8', 'b9', 'b10']\n",
    "random.shuffle(deck_list) #populates deck list and shuffles it"
   ]
  },
  {
   "cell_type": "code",
   "execution_count": 6,
   "metadata": {},
   "outputs": [
    {
     "name": "stdout",
     "output_type": "stream",
     "text": [
      "['y7', 'r2', 'b4', 'y6', 'b6', 'y10', 'y9', 'r5', 'b1', 'y3', 'b8', 'b2', 'r10', 'b5', 'y2', 'b10', 'b7', 'r6', 'y8', 'r7', 'r9', 'b3', 'r1', 'y4', 'y5', 'r4', 'r3', 'b9', 'y1', 'r8']\n"
     ]
    }
   ],
   "source": [
    "print(deck_list)"
   ]
  },
  {
   "cell_type": "code",
   "execution_count": 7,
   "metadata": {},
   "outputs": [],
   "source": [
    "def card_select():\n",
    "    global deck_list\n",
    "    if len(deck_list) == 0:\n",
    "        return None\n",
    "    return deck_list.pop() #pulls a value from the deck, if deck is empty, returns None."
   ]
  },
  {
   "cell_type": "code",
   "execution_count": 8,
   "metadata": {},
   "outputs": [],
   "source": [
    "player_1_card = 0\n",
    "player_2_card = 0"
   ]
  },
  {
   "cell_type": "code",
   "execution_count": 9,
   "metadata": {},
   "outputs": [],
   "source": [
    "def turn_winner():\n",
    "    global player_1\n",
    "    global player_2\n",
    "    letter1 = player_1_card.translate({ord(i): None for i in '1234567890'})#stores a numberless version of the card in \"letter\" var\n",
    "    letter2 = player_2_card.translate({ord(i): None for i in '1234567890'})\n",
    "    number1 = player_1_card.translate({ord(i): None for i in 'rby'})#stores a letterless version of card in \"number\" var\n",
    "    number2 = player_2_card.translate({ord(i): None for i in 'rby'})\n",
    "    \n",
    "    if letter1 == letter2:\n",
    "        if number1 > number2:\n",
    "            player_1.Cards_Owned.append(player_1_card)\n",
    "            player_1.Cards_Owned.append(player_2_card)\n",
    "            player_1.add_score(2)#adds both cards to the winner's card list and increments score\n",
    "            return player_1.Username\n",
    "        elif number1 < number2:\n",
    "            player_2.Cards_Owned.append(player_1_card)\n",
    "            player_2.Cards_Owned.append(player_2_card)\n",
    "            player_2.add_score(2)\n",
    "            return player_2.Username\n",
    "        else:\n",
    "            print(\"Critical System Failiure.\")\n",
    "    \n",
    "    elif (letter1 == \"r\" and letter2 == \"b\") or (letter1 == \"y\" and letter2 == \"r\") or (letter1 == \"b\" and letter2 == \"y\"): #handles all the scenarios where player 1 wins\n",
    "        player_1.Cards_Owned.append(player_1_card)\n",
    "        player_1.Cards_Owned.append(player_2_card)\n",
    "        player_1.add_score(2)\n",
    "        return player_1.Username\n",
    "    else:#rest of scenarios are player 2's winnings\n",
    "        player_2.Cards_Owned.append(player_1_card)\n",
    "        player_2.Cards_Owned.append(player_2_card)\n",
    "        player_2.add_score(2)\n",
    "        return player_2.Username"
   ]
  },
  {
   "cell_type": "code",
   "execution_count": 10,
   "metadata": {},
   "outputs": [],
   "source": [
    "def play_turns():\n",
    "    global player_1_card\n",
    "    global player_2_card\n",
    "    while player_1_card != None:\n",
    "        player_1_card = card_select()\n",
    "        player_2_card = card_select()\n",
    "        if player_1_card == None or player_2_card == None:#when the game is finished and no more cards are left to be played, the loop broken and the function returns.\n",
    "            break\n",
    "        print(\"Player 1 draws \",player_1_card,\" and Player 2 draws \",player_2_card)\n",
    "        print(turn_winner(),\" wins the turn\")\n",
    "    return\n",
    "    "
   ]
  },
  {
   "cell_type": "code",
   "execution_count": 11,
   "metadata": {},
   "outputs": [],
   "source": [
    "def end_of_game():\n",
    "    global player_1\n",
    "    global player_2\n",
    "\n",
    "    if player_1.Score> player_2.Score:\n",
    "        print(player_1.Username,\" has Won!. They had a total of\", str(player_1.Score), \" against \", str(player_2.Score), \" and hold the cards \", player_1.Cards_Owned)\n",
    "        return player_1\n",
    "    elif player_1.Score< player_2.Score:\n",
    "        print(player_2.Username,\"has Won!. They had a total of\", str(player_2.Score), \" against \", str(player_1.Score), \" and hold the cards \", player_2.Cards_Owned)\n",
    "        return player_2\n",
    "    else:\n",
    "        print(\"Draw!\")\n",
    "        return None"
   ]
  },
  {
   "cell_type": "code",
   "execution_count": 12,
   "metadata": {},
   "outputs": [
    {
     "name": "stdout",
     "output_type": "stream",
     "text": [
      "Player 1 draws  r8  and Player 2 draws  y1\n",
      "GTF1  wins the turn\n",
      "Player 1 draws  b9  and Player 2 draws  r3\n",
      "GTF1  wins the turn\n",
      "Player 1 draws  r4  and Player 2 draws  y5\n",
      "GTF1  wins the turn\n",
      "Player 1 draws  y4  and Player 2 draws  r1\n",
      "FXWood350  wins the turn\n",
      "Player 1 draws  b3  and Player 2 draws  r9\n",
      "GTF1  wins the turn\n",
      "Player 1 draws  r7  and Player 2 draws  y8\n",
      "GTF1  wins the turn\n",
      "Player 1 draws  r6  and Player 2 draws  b7\n",
      "FXWood350  wins the turn\n",
      "Player 1 draws  b10  and Player 2 draws  y2\n",
      "FXWood350  wins the turn\n",
      "Player 1 draws  b5  and Player 2 draws  r10\n",
      "GTF1  wins the turn\n",
      "Player 1 draws  b2  and Player 2 draws  b8\n",
      "GTF1  wins the turn\n",
      "Player 1 draws  y3  and Player 2 draws  b1\n",
      "GTF1  wins the turn\n",
      "Player 1 draws  r5  and Player 2 draws  y9\n",
      "GTF1  wins the turn\n",
      "Player 1 draws  y10  and Player 2 draws  b6\n",
      "GTF1  wins the turn\n",
      "Player 1 draws  y6  and Player 2 draws  b4\n",
      "GTF1  wins the turn\n",
      "Player 1 draws  r2  and Player 2 draws  y7\n",
      "GTF1  wins the turn\n",
      "GTF1 has Won!. They had a total of 24  against  6  and hold the cards  ['r8', 'y1', 'b9', 'r3', 'r4', 'y5', 'b3', 'r9', 'r7', 'y8', 'b5', 'r10', 'b2', 'b8', 'y3', 'b1', 'r5', 'y9', 'y10', 'b6', 'y6', 'b4', 'r2', 'y7']\n"
     ]
    }
   ],
   "source": [
    "play_turns()\n",
    "winning_player = end_of_game()#The returned object is copied into the winning_player object\n",
    "if winning_player == None: #in case of a draw, no score is written to either player's highscore and the game ends\n",
    "    print(\"It's a draw!\")\n",
    "    sys.exit()\n",
    "user_db.loc[winning_player.index,'Highscore'] = user_db.loc[winning_player.index,'Highscore'] + winning_player.Score #The Highscore in the dataframe of the winner is overwritten with the new \n",
    "#score, with the help of the .index value of the winning player which is carried along from the original player object's value"
   ]
  },
  {
   "cell_type": "code",
   "execution_count": 13,
   "metadata": {},
   "outputs": [
    {
     "name": "stdout",
     "output_type": "stream",
     "text": [
      "Highscores: \n",
      "     Username  Highscore\n",
      "2     Userme       1051\n",
      "0  FXWood350        666\n",
      "1       GTF1        444\n",
      "4       John         18\n",
      "3       Dave          0\n"
     ]
    }
   ],
   "source": [
    "user_db.to_csv(r'user_list.csv', index=False) #updated database overwrites existing database\n",
    "high_scores = user_db.sort_values(by='Highscore', ascending=False) #new dataframe, copy of user database, sorted by Descending Highscore value\n",
    "del high_scores['Password'] #ensures other players do not find out passwords of other users\n",
    "print(\"Highscores: \\n\", high_scores.head(5)) #first 5 users are printed"
   ]
  },
  {
   "cell_type": "code",
   "execution_count": null,
   "metadata": {},
   "outputs": [],
   "source": []
  }
 ],
 "metadata": {
  "kernelspec": {
   "display_name": "Python 3",
   "language": "python",
   "name": "python3"
  },
  "language_info": {
   "codemirror_mode": {
    "name": "ipython",
    "version": 3
   },
   "file_extension": ".py",
   "mimetype": "text/x-python",
   "name": "python",
   "nbconvert_exporter": "python",
   "pygments_lexer": "ipython3",
   "version": "3.7.3"
  }
 },
 "nbformat": 4,
 "nbformat_minor": 4
}
